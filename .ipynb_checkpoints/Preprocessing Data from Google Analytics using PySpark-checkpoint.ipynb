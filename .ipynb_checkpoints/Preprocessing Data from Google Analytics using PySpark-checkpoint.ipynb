{
 "cells": [
  {
   "cell_type": "markdown",
   "id": "e1221557",
   "metadata": {},
   "source": [
    "### Preprocessing Google Analytics Dataset (from Google Merchandise Store)\n",
    "\n",
    "Main goal is testing how is processing data using PySpark for large dataset. We are gonna start handling 1.0 GB, then 7.0 GB and finally we are gonna go all the way through 25.0 GB (more or less). \n",
    "\n",
    "Things to keep in mind for this project that I'm going to be doing:\n",
    "\n",
    "- Exploring the dataset\n",
    "- Preprocessing for creating cool new features on the way\n",
    "- Learning\n",
    "- & Enjoy"
   ]
  },
  {
   "cell_type": "markdown",
   "id": "3a70080c",
   "metadata": {},
   "source": [
    "#### Context\n",
    "The Google Merchandise Store sells Google branded merchandise. The data is typical of what you would see for an ecommerce website.\n",
    "\n",
    "#### Content\n",
    "The sample dataset contains Google Analytics 360 data from the Google Merchandise Store, a real ecommerce store. The Google Merchandise Store sells Google branded merchandise. The data is typical of what you would see for an ecommerce website. It includes the following kinds of information:\n",
    "\n",
    "Traffic source data: information about where website visitors originate. This includes data about organic traffic, paid search traffic, display traffic, etc.\n",
    "Content data: information about the behavior of users on the site. This includes the URLs of pages that visitors look at, how they interact with content, etc.\n",
    "Transactional data: information about the transactions that occur on the Google Merchandise Store website.\n",
    "\n",
    "Features/Columns in data:\n",
    "* fullVisitorId — A unique identifier for each user\n",
    "* channelGrouping — The channel via which the user came to the Store\n",
    "* date — The date on which the user visited\n",
    "* device — The specifications for the device used to access\n",
    "* geoNetwork — This section contains information about the geography of the user\n",
    "* socialEngagementType — Engagement type, either “Socially Engaged” or “Not Socially Engaged”\n",
    "* totals — This section contains aggregate values across the session\n",
    "* trafficSource — This section contains information about the Traffic Source from which the session originated\n",
    "* visitId — An identifier for this session. This is part of the value usually stored as the _utmb cookie. This is only unique to the user\n",
    "* visitNumber — The session number for this user. If this is the first session, then this is set to 1\n",
    "* visitStartTime — The timestamp (expressed as POSIX time)\n",
    "* hits — This row and nested fields are populated for any and all types of hits. Provides a record of all page visits"
   ]
  },
  {
   "cell_type": "code",
   "execution_count": 1,
   "id": "38f65ca7",
   "metadata": {},
   "outputs": [],
   "source": [
    "# Import SparkSession\n",
    "from pyspark.sql import SparkSession\n",
    "from pyspark.sql.window import Window\n",
    "import pyspark.sql.functions as F\n",
    "from datetime import datetime\n",
    "import calendar\n",
    "import timeit\n",
    "\n",
    "# Create SparkSession \n",
    "spark = SparkSession.builder \\\n",
    "      .master(\"local[8]\") \\\n",
    "      .appName(\"SparkTraining.com\") \\\n",
    "      .getOrCreate() "
   ]
  },
  {
   "cell_type": "code",
   "execution_count": 2,
   "id": "e434313a",
   "metadata": {
    "scrolled": false
   },
   "outputs": [
    {
     "name": "stdout",
     "output_type": "stream",
     "text": [
      "root\n",
      " |-- channelGrouping: string (nullable = true)\n",
      " |-- date: integer (nullable = true)\n",
      " |-- device: string (nullable = true)\n",
      " |-- fullVisitorId: decimal(20,0) (nullable = true)\n",
      " |-- geoNetwork: string (nullable = true)\n",
      " |-- sessionId: string (nullable = true)\n",
      " |-- socialEngagementType: string (nullable = true)\n",
      " |-- totals: string (nullable = true)\n",
      " |-- trafficSource: string (nullable = true)\n",
      " |-- visitId: integer (nullable = true)\n",
      " |-- visitNumber: integer (nullable = true)\n",
      " |-- visitStartTime: integer (nullable = true)\n",
      "\n"
     ]
    }
   ],
   "source": [
    "df = spark.read.options(header=True, inferSchema = True, quote = '\"', escape = '\"', multiLine = True).csv(\"./test.csv\")\n",
    "df.printSchema()"
   ]
  },
  {
   "cell_type": "code",
   "execution_count": 3,
   "id": "32472028",
   "metadata": {},
   "outputs": [
    {
     "name": "stdout",
     "output_type": "stream",
     "text": [
      "+-------+--------------------+--------------------+-------------------+--------------------+\n",
      "|summary|                date|       fullVisitorId|            visitId|      visitStartTime|\n",
      "+-------+--------------------+--------------------+-------------------+--------------------+\n",
      "|  count|              804684|              804684|             804684|              804684|\n",
      "|   mean|2.0174964498142127E7|45087500686953208...|1.513338532552003E9|1.5133385335090122E9|\n",
      "| stddev|   4573.100966819984|3.098113840258274...|  6676000.459978136|   6676000.428767434|\n",
      "|    min|            20170802|        259678714014|         1501656404|          1501657203|\n",
      "|    max|            20180430|98911902128782375692|         1525157818|          1525157818|\n",
      "+-------+--------------------+--------------------+-------------------+--------------------+\n",
      "\n"
     ]
    }
   ],
   "source": [
    "df.select(['date','fullVisitorId','visitId','visitStartTime']).describe().show()"
   ]
  },
  {
   "cell_type": "markdown",
   "id": "b98960fd",
   "metadata": {},
   "source": [
    "#### Manipulating dates"
   ]
  },
  {
   "cell_type": "code",
   "execution_count": 4,
   "id": "d906d7c4",
   "metadata": {},
   "outputs": [
    {
     "name": "stdout",
     "output_type": "stream",
     "text": [
      "+--------+----------+----+-----+---+\n",
      "|    date|  datetime|year|month|day|\n",
      "+--------+----------+----+-----+---+\n",
      "|20171016|2017-10-16|2017|   10| 16|\n",
      "|20171016|2017-10-16|2017|   10| 16|\n",
      "|20171016|2017-10-16|2017|   10| 16|\n",
      "|20171016|2017-10-16|2017|   10| 16|\n",
      "|20171016|2017-10-16|2017|   10| 16|\n",
      "|20171016|2017-10-16|2017|   10| 16|\n",
      "|20171016|2017-10-16|2017|   10| 16|\n",
      "|20171016|2017-10-16|2017|   10| 16|\n",
      "|20171016|2017-10-16|2017|   10| 16|\n",
      "|20171016|2017-10-16|2017|   10| 16|\n",
      "+--------+----------+----+-----+---+\n",
      "only showing top 10 rows\n",
      "\n"
     ]
    }
   ],
   "source": [
    "# 1.- Preprocessing dates in PySpark\n",
    "df2 = df.withColumn(\"datetime\", F.to_date(F.col(\"date\"),\"yyyyMMdd\"))\n",
    "df3 = df2.withColumn(\"year\", F.year(\"datetime\"))\\\n",
    "        .withColumn(\"month\", F.month(\"datetime\"))\\\n",
    "        .withColumn(\"day\", F.date_format(F.col(\"datetime\"), \"d\"))\n",
    "df3.select(F.col(\"date\"),F.col(\"datetime\"),F.col(\"year\"),F.col(\"month\"),F.col(\"day\")).show(10)"
   ]
  },
  {
   "cell_type": "markdown",
   "id": "b15b8965",
   "metadata": {},
   "source": [
    "#### Time between Sessions by Visitor"
   ]
  },
  {
   "cell_type": "markdown",
   "id": "85a547c5",
   "metadata": {},
   "source": [
    "#### Primitive way to calculate time between logins/sessions"
   ]
  },
  {
   "cell_type": "code",
   "execution_count": 5,
   "id": "3b6b96d7",
   "metadata": {},
   "outputs": [
    {
     "name": "stdout",
     "output_type": "stream",
     "text": [
      "+-------------------+----------+----+-----+---+\n",
      "|      fullVisitorId|  datetime|year|month|day|\n",
      "+-------------------+----------+----+-----+---+\n",
      "|1434440881633966770|2017-10-16|2017|   10| 16|\n",
      "|4012482813988067872|2017-10-16|2017|   10| 16|\n",
      "|6442523930144577585|2017-10-16|2017|   10| 16|\n",
      "|6416990411545001239|2017-10-16|2017|   10| 16|\n",
      "|1994773412357945288|2017-10-16|2017|   10| 16|\n",
      "|5527875182371598421|2017-10-16|2017|   10| 16|\n",
      "|  63897075477117625|2017-10-16|2017|   10| 16|\n",
      "|4392517427630048868|2017-11-30|2017|   11| 30|\n",
      "| 231355554632373132|2017-11-30|2017|   11| 30|\n",
      "|1216522698917837803|2017-11-30|2017|   11| 30|\n",
      "| 209493828541647398|2017-11-30|2017|   11| 30|\n",
      "| 282872886065230921|2017-11-30|2017|   11| 30|\n",
      "| 585439608615618519|2017-11-30|2017|   11| 30|\n",
      "|1129596338043901560|2017-11-30|2017|   11| 30|\n",
      "|3142691974796850629|2017-11-30|2017|   11| 30|\n",
      "|6268170711858015260|2017-11-30|2017|   11| 30|\n",
      "|8519904975907632432|2017-11-30|2017|   11| 30|\n",
      "|3477015762961788473|2017-11-30|2017|   11| 30|\n",
      "|4016822139658640665|2017-11-30|2017|   11| 30|\n",
      "|1383323450829632008|2017-11-30|2017|   11| 30|\n",
      "+-------------------+----------+----+-----+---+\n",
      "only showing top 20 rows\n",
      "\n"
     ]
    }
   ],
   "source": [
    "# 2.- Time Between Sessions by Visitor\n",
    "df4 = df3.select(F.col(\"fullVisitorId\"),F.col(\"datetime\"),F.col(\"year\"),F.col(\"month\"),F.col(\"day\")).sort(\"fullVisitorId\", \"datetime\")\n",
    "# We are going to ignore if a visitor entered two or more times in a day using .distinct()\n",
    "df4 = df4.distinct()\n",
    "df4.show()"
   ]
  },
  {
   "cell_type": "code",
   "execution_count": 6,
   "id": "27a39191",
   "metadata": {},
   "outputs": [
    {
     "name": "stdout",
     "output_type": "stream",
     "text": [
      "+-----------------+-------------+-------------+\n",
      "|    fullVisitorId|sum_diff_days|avg_diff_days|\n",
      "+-----------------+-------------+-------------+\n",
      "| 4499797999887844|            1|          1.0|\n",
      "|22649038761799046|            1|          1.0|\n",
      "|23869313799981694|            1|          1.0|\n",
      "|34710606159448409|         null|         null|\n",
      "|45431075147774863|         null|         null|\n",
      "|49173489736183166|         null|         null|\n",
      "|59005825026777770|         null|         null|\n",
      "|64202398468545145|         null|         null|\n",
      "|71866025174152017|         null|         null|\n",
      "|73166438954880919|         null|         null|\n",
      "+-----------------+-------------+-------------+\n",
      "only showing top 10 rows\n",
      "\n",
      "Program Executed in 14.542431500000006\n"
     ]
    }
   ],
   "source": [
    "start = timeit.default_timer()\n",
    "# sorting columns\n",
    "df4d = df4.select(F.col(\"fullVisitorId\").alias(\"fullVisitorIdD\"), \n",
    "                  F.col(\"datetime\").alias(\"datetimeD\")).sort(\"fullVisitorIdD\",\"datetimeD\")\n",
    "\n",
    "# Joining with the same dataframe, getting difference between dates, aggregating data by visitor\n",
    "df5 = df4.join(df4d,(df4.fullVisitorId == df4d.fullVisitorIdD) & (df4.datetime == F.date_add(df4d.datetimeD, 1)),\"left\")\n",
    "\n",
    "df5 = df5.withColumn(\"diff_days\", F.datediff(F.col(\"datetime\"),F.col(\"datetimeD\")))\n",
    "\n",
    "df5.groupBy(\"fullVisitorId\").agg(F.sum(\"diff_days\").alias(\"sum_diff_days\"),\\\n",
    "                                F.avg(\"diff_days\").alias(\"avg_diff_days\")).show(10)\n",
    "\n",
    "stop = timeit.default_timer()\n",
    "print(\"Program Executed in \"+str(stop - start))"
   ]
  },
  {
   "cell_type": "markdown",
   "id": "1652a7ba",
   "metadata": {},
   "source": [
    "#### Cooler way to calculate time between logins/sessions (using Window Functions)"
   ]
  },
  {
   "cell_type": "code",
   "execution_count": 7,
   "id": "d081a2f8",
   "metadata": {},
   "outputs": [
    {
     "name": "stdout",
     "output_type": "stream",
     "text": [
      "+---------------+-------------+-------------+\n",
      "|  fullVisitorId|sum_diff_days|avg_diff_days|\n",
      "+---------------+-------------+-------------+\n",
      "| 53049821714864|         null|         null|\n",
      "| 95085510298525|         null|         null|\n",
      "|106364568517340|            1|          1.0|\n",
      "|118334805178127|         null|         null|\n",
      "|130646294093000|         null|         null|\n",
      "|133092152601524|         null|         null|\n",
      "|141778304660879|         null|         null|\n",
      "|155706826600807|         null|         null|\n",
      "|227122480450743|         null|         null|\n",
      "|248459207073320|         null|         null|\n",
      "+---------------+-------------+-------------+\n",
      "only showing top 10 rows\n",
      "\n",
      "Program Executed in 11.944977799999997\n"
     ]
    }
   ],
   "source": [
    "# first step: use a famous lag window function (we can do the same with lead)\n",
    "start = timeit.default_timer()\n",
    "windowSpec = Window.partitionBy(\"fullVisitorId\").orderBy(F.col(\"datetime\").asc())\n",
    "df5_cooler = df4.withColumn(\"lag\",F.lag(\"datetime\",1).over(windowSpec))\n",
    "\n",
    "df5_cooler = df5_cooler.withColumn(\"diff_days\", F.datediff(F.col(\"datetime\"),F.col(\"lag\")))\n",
    "\n",
    "df5_cooler.groupBy(\"fullVisitorId\").agg(F.sum(\"diff_days\").alias(\"sum_diff_days\"),\\\n",
    "                                F.avg(\"diff_days\").alias(\"avg_diff_days\")).show(10)\n",
    "\n",
    "\n",
    "stop = timeit.default_timer()\n",
    "print(\"Program Executed in \"+str(stop - start))"
   ]
  },
  {
   "cell_type": "markdown",
   "id": "215e607b",
   "metadata": {},
   "source": [
    "#### Let's get number of sessions in the last 3,6 and 9 months (static picture)\n",
    "In this exercise we are going through the calculation of a static picture for our visitors, this kind of data could help for supporting day to day operations rather than an analytical process."
   ]
  },
  {
   "cell_type": "code",
   "execution_count": 8,
   "id": "c002b6ca",
   "metadata": {},
   "outputs": [
    {
     "name": "stdout",
     "output_type": "stream",
     "text": [
      "+-------------------+---+---+---+---+---+---+---+---+---+\n",
      "|      fullVisitorId|Jan|Feb|Mar|Apr|Aug|Sep|Oct|Nov|Dec|\n",
      "+-------------------+---+---+---+---+---+---+---+---+---+\n",
      "| 428679113694403880|  0|  0|  2|  0|  0|  0|  0|  0|  0|\n",
      "|1909885162226675764|  0|  1|  1|  1|  0|  0|  1|  4|  0|\n",
      "|3027759290441300182|  0|  0|  0|  0|  0|  0|  0|  0|  1|\n",
      "| 354105861304045159|  0|  0|  0|  0|  0|  1|  0|  0|  0|\n",
      "|3570064048664276854|  0|  0|  0|  0|  0|  1|  0|  0|  0|\n",
      "| 846336123810068918|  0|  0|  0|  3|  0|  0|  0|  0|  0|\n",
      "|  12602602100442033|  0|  1|  0|  0|  0|  0|  0|  0|  0|\n",
      "|5969364060748176916|  0|  0|  1|  0|  0|  0|  0|  0|  0|\n",
      "|7867912365879879182|  0|  0|  0|  0|  1|  0|  0|  0|  0|\n",
      "|6731636299042416168|  0|  0|  0|  0|  0|  0|  0|  1|  0|\n",
      "|4193161673322046819|  4|  0|  0|  0|  0|  0|  0|  0|  0|\n",
      "|4860229664741834970|  0|  0|  0|  0|  0|  0|  0|  0|  1|\n",
      "| 243543595910373348|  0|  0|  1|  0|  0|  0|  0|  0|  0|\n",
      "|6434529131595737032|  0|  1|  1|  0|  0|  0|  0|  0|  0|\n",
      "| 312978540207038952|  0|  0|  0|  0|  0|  0|  0|  1|  0|\n",
      "|8975819587950498429|  1|  0|  3|  1|  0|  0|  0|  0|  0|\n",
      "|5218401454640703190|  0|  0|  1|  0|  0|  0|  0|  0|  0|\n",
      "|1222800155226108567|  0|  0|  1|  0|  0|  0|  0|  0|  0|\n",
      "|7727168063784098844|  0|  0|  0|  0|  0|  0|  1|  0|  0|\n",
      "|8971551841795100022|  1|  0|  0|  0|  0|  0|  0|  0|  0|\n",
      "+-------------------+---+---+---+---+---+---+---+---+---+\n",
      "only showing top 20 rows\n",
      "\n"
     ]
    }
   ],
   "source": [
    "# We can create a dataframe with sessions per visitor for different months,\n",
    "# and from that move into 3, 6, and 9 months from the last day in our dataset (Static Picture = SP)\n",
    "dfSP = df4.withColumn(\"month_name\", F.date_format(F.col(\"datetime\"), \"MMMM\"))\\\n",
    "            .withColumn(\"aux\", F.lit(1))\\\n",
    "            .groupBy(\"fullVisitorId\").pivot(\"month\").sum(\"aux\").na.fill(value=0)\n",
    "\n",
    "# Creating new column names to replace month \n",
    "newColumns = ['fullVisitorId']+[calendar.month_abbr[int(col)] for col in dfSP.columns[1:]]\n",
    "dfSP = dfSP.toDF(*newColumns)\n",
    "dfSP.show()"
   ]
  },
  {
   "cell_type": "code",
   "execution_count": null,
   "id": "81c0becb",
   "metadata": {},
   "outputs": [],
   "source": [
    "# Now we can get last 3, 6, and 9 months just adding new columns to our new dataset\n",
    "cols_list3M = dfSP.columns[len(dfSP.columns)-3:len(dfSP.columns)]\n",
    "cols_list6M = dfSP.columns[len(dfSP.columns)-3:len(dfSP.columns)]\n",
    "cols_list9M = dfSP.columns[len(dfSP.columns)-3:len(dfSP.columns)]\n",
    "\n",
    "# Creating an addition expression using `join`\n",
    "expression3M = '+'.join(cols_list3M)\n",
    "expression6M = '+'.join(cols_list6M)\n",
    "expression9M = '+'.join(cols_list9M)\n",
    "\n",
    "# Adding the columns for 3, 6, and 9 months\n",
    "dfSP = dfSP.withColumn(\"last_3m\", F.expr(expression3M))\\\n",
    "    .withColumn(\"last_6m\", F.expr(expression6M))\\\n",
    "    .withColumn(\"last_9m\", F.expr(expression9M))\n",
    "\n",
    "dfSP.show()"
   ]
  },
  {
   "cell_type": "markdown",
   "id": "56a6c8bf",
   "metadata": {},
   "source": [
    "#### Let's get number of sessions within 1, 3 and 5 months (dinamic picture)\n",
    "In this exercise we are going to perform a calculation where the main goal is determine how many sessions a visitor has from the last interaction, counting the number of sessions since that last interaction to 1, 3, and 5 months before."
   ]
  },
  {
   "cell_type": "code",
   "execution_count": null,
   "id": "31d2226a",
   "metadata": {},
   "outputs": [],
   "source": []
  }
 ],
 "metadata": {
  "kernelspec": {
   "display_name": "Python 3 (ipykernel)",
   "language": "python",
   "name": "python3"
  },
  "language_info": {
   "codemirror_mode": {
    "name": "ipython",
    "version": 3
   },
   "file_extension": ".py",
   "mimetype": "text/x-python",
   "name": "python",
   "nbconvert_exporter": "python",
   "pygments_lexer": "ipython3",
   "version": "3.9.12"
  }
 },
 "nbformat": 4,
 "nbformat_minor": 5
}
